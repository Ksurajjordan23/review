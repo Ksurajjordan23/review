{
 "cells": [
  {
   "cell_type": "code",
   "execution_count": 1025,
   "id": "eddf865b",
   "metadata": {
    "scrolled": true
   },
   "outputs": [],
   "source": [
    "#importing modules\n",
    "import requests\n",
    "import json\n",
    "import argparse\n",
    "import psycopg2\n",
    "from config import Config\n",
    "import sys\n",
    "import psycopg2.extensions\n",
    "psycopg2.extensions.register_type(psycopg2.extensions.UNICODE)\n",
    "psycopg2.extensions.register_type(psycopg2.extensions.UNICODEARRAY)\n",
    "@classmethod\n",
    "def from_crawler(cls, crawler):\n",
    "    return cls(crawler.stats)"
   ]
  },
  {
   "cell_type": "markdown",
   "id": "35a42f26",
   "metadata": {},
   "source": [
    "TO create a database explicitly in PostgreSQL using python"
   ]
  },
  {
   "cell_type": "code",
   "execution_count": 1026,
   "id": "29706d51",
   "metadata": {},
   "outputs": [
    {
     "name": "stdout",
     "output_type": "stream",
     "text": [
      "Database created successfully\n"
     ]
    }
   ],
   "source": [
    "#Database connection #Please don't copy my password #execute only once as no try-catch block\n",
    "conn = psycopg2.connect(\n",
    "database = \"postgres\", user = \"postgres\", password = 'itsonlyMEnow7#', host= 'localhost', port ='5432')\n",
    "conn.autocommit = True\n",
    "\n",
    "#Creating a cursor object\n",
    "cursor = conn.cursor()\n",
    "\n",
    "#Query to create a database\n",
    "sql = '''CREATE database sunday''';\n",
    "\n",
    "#Creating database\n",
    "\n",
    "cursor.execute(sql)\n",
    "print(\"Database created successfully\")\n",
    "\n",
    "#Closing the connection\n",
    "conn.close()"
   ]
  },
  {
   "cell_type": "code",
   "execution_count": 1027,
   "id": "238603c7",
   "metadata": {},
   "outputs": [
    {
     "name": "stdout",
     "output_type": "stream",
     "text": [
      "Table created successfully........\n"
     ]
    }
   ],
   "source": [
    "import psycopg2\n",
    "\n",
    "#Establishing the connection\n",
    "conn = psycopg2.connect(\n",
    "   database=\"postgres\", user='postgres', password='itsonlyMEnow7#', host='localhost', port= '5432'\n",
    ")\n",
    "#Creating a cursor object using the cursor() method\n",
    "cursor = conn.cursor()\n",
    "\n",
    "#Dropping word table if already exists.\n",
    "cursor.execute(\"DROP TABLE IF EXISTS word\")\n",
    "\n",
    "#Creating table as per requirement\n",
    "sql ='''CREATE TABLE word(\n",
    "   word_id SERIAL PRIMARY KEY,\n",
    "   word_name VARCHAR(50) NOT NULL,\n",
    "   word_def VARCHAR(200),\n",
    "   stem_id SERIAL UNIQUE\n",
    ")'''\n",
    "cursor.execute(sql)\n",
    "print(\"Table created successfully........\")\n",
    "conn.commit()\n",
    "#Closing the connection\n",
    "conn.close()"
   ]
  },
  {
   "cell_type": "markdown",
   "id": "0201cb0a",
   "metadata": {},
   "source": [
    "Function to create multiple tables in the database if needed || note: You would need to use from_crawler and add path"
   ]
  },
  {
   "cell_type": "code",
   "execution_count": 1028,
   "id": "842c950a",
   "metadata": {},
   "outputs": [
    {
     "name": "stdout",
     "output_type": "stream",
     "text": [
      "__init__() missing 1 required positional argument: 'stream_or_path'\n"
     ]
    }
   ],
   "source": [
    "#Create table \n",
    "def create_tables():\n",
    "    commands = (\n",
    "    \"\"\"CREATE TABLE dict (word_id SERIAL PRIMARY KEY,\n",
    "    word_name VARCHAR(50) NOT NULL,\n",
    "    word_def VARCHAR(200) NULL,\n",
    "    stem_id SERIAL UNIQUE) \"\"\")\n",
    "    \n",
    "    conn = None\n",
    "    try:\n",
    "        #connection parameters\n",
    "        params = Config()\n",
    "        #connect to the PostgreSQL server\n",
    "        conn = psycopg2.connect(**params)\n",
    "        cursor = conn.cursor()\n",
    "        #create table one by one\n",
    "        for command in commands:\n",
    "            cur.execute(command)\n",
    "        #close communication with the PostgreSQL database server\n",
    "        cur.close()\n",
    "        #commit the changes\n",
    "        conn.commit()\n",
    "    except(Exception, psycopg2.DatabaseError) as error:\n",
    "        print(error)\n",
    "    finally:\n",
    "        if conn is not None:\n",
    "            conn.close()\n",
    "if __name__ == '__main__':\n",
    "    \n",
    "    create_tables()\n",
    "\n",
    "    "
   ]
  },
  {
   "cell_type": "code",
   "execution_count": 1033,
   "id": "8dccd623",
   "metadata": {},
   "outputs": [],
   "source": [
    "#pulling data #trying to test by just putting one complete word and not it's tree\n",
    "def enter_input():\n",
    "    word = input(\"Enter your word:\") #Press Enter\n",
    "    print(\"Word has been input\")\n",
    "    url = \"https://api.dictionaryapi.dev/api/v2/entries/en\" + \"/\" + word \n",
    "    req = requests.get(url)#calling the input word on the dictionary\n",
    "    print(req.status_code)  #checking the status code\n",
    "    #status= req.status_code\n",
    "    x = [req.json()] #using json()method and passing it as a list\n",
    "    #print (x)\n",
    "    #if x[0] == 'No Definitions Found':\n",
    "        #print(\"NULL\")\n",
    "    if req.status_code != 200:\n",
    "        print(\"NULL\")\n",
    "    else:\n",
    "        y= json.loads(req.text)\n",
    "        y = y[0]['meanings'][0]['definitions'][0]['definition'] #checking for definition in the output\n",
    "        for definition in y:\n",
    "          d=str(print(definition, end = ''))\n",
    "          conn = psycopg2.connect(database = \"postgres\", user = \"postgres\", password = 'itsonlyMEnow7#', host= 'localhost', port ='5432')\n",
    "    #conn.autocommit = True\n",
    "          cursor = conn.cursor()\n",
    "          cursor.execute(\"INSERT INTO dict (word_name, word_def) VALUES(%s, %s) returning word_id, stem_id\", (word,y)) #parameterized against SQL ingestion\n",
    "          inserted_id = cursor.fetchone()[0]\n",
    "          conn.commit()\n",
    "          cursor.close()\n",
    "          conn.close()\n",
    "    "
   ]
  },
  {
   "cell_type": "markdown",
   "id": "aa3055b8",
   "metadata": {},
   "source": [
    "You might find a lot of #(commented code) because of trying different methods and iterations on doing things differently, I would advise you to ignore them."
   ]
  },
  {
   "cell_type": "code",
   "execution_count": 1030,
   "id": "d09ce9ee",
   "metadata": {},
   "outputs": [],
   "source": [
    "def string_sli():\n",
    "    word = input(\"Enter your word:\")\n",
    "    #for i in range(len(word)+1,0,-1):\n",
    "        #for j in range(0,i-1):\n",
    "            #print(word[j], end= ' ')\n",
    "            #print(\"\")\n",
    "    n= 0\n",
    "    newword = \"\"\n",
    "    nlr =[]\n",
    "    for i in range(len(word)-n):\n",
    "        newword = newword + word[i]\n",
    "        n= n+1\n",
    "        print(newword)\n",
    "        nlr.append(newword)\n",
    "        print(nlr)\n",
    "        #nwr = newword.split(\"\\n\")\n",
    "        #nwr = [nwr]\n",
    "        #print(nwr)\n",
    "        #nwlr =[]\n",
    "        #for i in range(len(newword)):\n",
    "            #nwlr.append(newword)\n",
    "            #print(nwlr)\n",
    "        #for j in range(i-len(newword)):\n",
    "           # nwlr.append(nwr)\n",
    "            \n",
    "            \n",
    "        #nwl = list(newword)\n",
    "        #def convert(string):\n",
    "            #nwl =[]\n",
    "            #nwl[:0] = string\n",
    "            #return nwl\n",
    "        #print(convert(newword))\n",
    "        #nwl = newword.split(\" \")\n",
    "        #print(nwl)\n",
    "        #nwl = (string.split(\" \"))\n",
    "        #print(nwl)\n",
    "        #nw = [newword]\n",
    "        #nwr = nw[::-1]\n",
    "        #print(nwr)\n",
    "        #nw = word.rstrip(word[-i])\n",
    "        #print(nw[::-1])\n",
    "        #print(newword)\n",
    "    length = len(nlr)\n",
    "    #print(length)\n",
    "            \n",
    "     \n",
    "    #for k in (nwl):\n",
    "    k = 0\n",
    "    for k in range (k,length):\n",
    "        url = \"https://api.dictionaryapi.dev/api/v2/entries/en\" + \"/\" + nlr[k] #+k #+nw[k]\n",
    "        req = requests.get(url)\n",
    "        status= req.status_code\n",
    "        #print(status)\n",
    "        l = [req.json()]\n",
    "        m = json.loads(req.text)\n",
    "        \n",
    "        #print(m)\n",
    "        if status != 200:\n",
    "            print(\"NULL\")\n",
    "            q = \"NULL\"\n",
    "            conn = psycopg2.connect(database = \"postgres\", user = \"postgres\", password = 'itsonlyMEnow7#', host= 'localhost', port ='5432')\n",
    "            cursor = conn.cursor()\n",
    "            cursor.execute(\"INSERT INTO word (word_name, word_def) VALUES (%s, %s) returning word_id, stem_id\", (nlr[k], q))\n",
    "            inserted_id = cursor.fetchone()[0]\n",
    "            conn.commit()\n",
    "        else:\n",
    "            m = m[0]['meanings'][0]['definitions'][0]['definition']\n",
    "            for definition in m:\n",
    "                b = str(print(definition, end = ''))\n",
    "            conn = psycopg2.connect(database = \"postgres\", user = \"postgres\", password = 'itsonlyMEnow7#', host= 'localhost', port ='5432')\n",
    "    #conn.autocommit = True\n",
    "            cursor = conn.cursor()\n",
    "            cursor.execute(\"INSERT INTO word (word_name, word_def) VALUES(%s, %s) returning word_id, stem_id\", (nlr[k],m)) #parameterized against SQL ingestion\n",
    "            inserted_id = cursor.fetchone()[0]\n",
    "            conn.commit()\n",
    "            cursor.close()\n",
    "            conn.close()\n",
    "                \n",
    "        #m = m[0]['meanings'][0]['definitions'][0]['definition']\n",
    "        #print(m)\n",
    "        #for definition in m:\n",
    "            #if m == 'No Definitions Found':\n",
    "               # print(\"NULL\")\n",
    "                #b = str(print(definition)) \n",
    "                #print(b)\n",
    "            #else:\n",
    "               # print(m )\n",
    "        #print(l)\n",
    "    #if l[0]['title'] == 'No Definitions Found':\n",
    "        #print(\"NULL\")\n",
    "    #else:\n",
    "        #return m\n",
    "       # m = json.loads(req.text)\n",
    "       # m = m[0]['meanings'][0]['definitions'][0]['definition']\n",
    "       # for definition in m:\n",
    "        #    b = str(print(definition, end = '')) \n",
    "         #   print(b) \n",
    "       "
   ]
  },
  {
   "cell_type": "code",
   "execution_count": 1031,
   "id": "25d46d24",
   "metadata": {},
   "outputs": [
    {
     "name": "stdout",
     "output_type": "stream",
     "text": [
      "Enter your word:lower\n",
      "l\n",
      "['l']\n",
      "lo\n",
      "['l', 'lo']\n",
      "low\n",
      "['l', 'lo', 'low']\n",
      "lowe\n",
      "['l', 'lo', 'low', 'lowe']\n",
      "lower\n",
      "['l', 'lo', 'low', 'lowe', 'lower']\n",
      "Litre, literLook, see, behold (in an imperative sense).Something that is low; a low point.A flame; fire; blaze.Situated close to, or even below, the ground or another normal reference plane; not high or lofty."
     ]
    }
   ],
   "source": [
    "string_sli()"
   ]
  },
  {
   "cell_type": "code",
   "execution_count": 1032,
   "id": "ffdbb044",
   "metadata": {},
   "outputs": [
    {
     "name": "stdout",
     "output_type": "stream",
     "text": [
      "Enter your word:pipe\n",
      "Word has been input\n",
      "200\n",
      "Meanings relating to a wind instrument."
     ]
    }
   ],
   "source": [
    "enter_input()"
   ]
  }
 ],
 "metadata": {
  "kernelspec": {
   "display_name": "Python 3 (ipykernel)",
   "language": "python",
   "name": "python3"
  },
  "language_info": {
   "codemirror_mode": {
    "name": "ipython",
    "version": 3
   },
   "file_extension": ".py",
   "mimetype": "text/x-python",
   "name": "python",
   "nbconvert_exporter": "python",
   "pygments_lexer": "ipython3",
   "version": "3.9.6"
  }
 },
 "nbformat": 4,
 "nbformat_minor": 5
}
